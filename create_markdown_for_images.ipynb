{
 "cells": [
  {
   "cell_type": "code",
   "execution_count": 1,
   "metadata": {},
   "outputs": [],
   "source": [
    "import glob"
   ]
  },
  {
   "attachments": {},
   "cell_type": "markdown",
   "metadata": {},
   "source": [
    "Goal - read all the card image files and put them into the following format. I can change the alt and title later.\n",
    "```yaml\n",
    "---\n",
    "permalink: /cards/\n",
    "title: \"Cards\"\n",
    "gallery:\n",
    "  - url: assets/images/card_images/25th+bday+-+more+please.png\n",
    "    image_path: assets/images/card_images/25th+bday+-+more+please.png\n",
    "    alt: \"Picture of a glass of 1/4 full glass of beer.\"\n",
    "    title: \"25th birthday - more please\"\n",
    "  - url: /assets/images/card_images/And+then+it+hit+me-greeting-03.png\n",
    "    image_path: /assets/images/card_images/And+then+it+hit+me-greeting-03.png\n",
    "    alt: \"Picture of person standing in front of a bus with their hands up.\"\n",
    "    title: \"And then it hit me - I love you\"\n",
    "---\n",
    "```"
   ]
  },
  {
   "cell_type": "code",
   "execution_count": 8,
   "metadata": {},
   "outputs": [],
   "source": [
    "all_card_images = glob.glob(\"./assets/images/card_images/*.png\")"
   ]
  },
  {
   "cell_type": "code",
   "execution_count": 21,
   "metadata": {},
   "outputs": [],
   "source": [
    "yaml_str = \"\"\"---\n",
    "permalink: /cards/\n",
    "title: \"Cards\"\n",
    "gallery:\n",
    "\"\"\""
   ]
  },
  {
   "cell_type": "code",
   "execution_count": 22,
   "metadata": {},
   "outputs": [],
   "source": [
    "for card_image in all_card_images:\n",
    "    image_gallery_item = f\"\"\"\\t- url: {card_image[1:]}\\n\\t  image_path: {card_image[1:]}\\n\"\"\"\n",
    "    yaml_str += image_gallery_item\n",
    "gallery_str = \"\"\"{% include gallery caption=\"Gallery of cards in no particular order.\" %}\"\"\"\n",
    "yaml_str += f\"\"\"---\\n{gallery_str}\"\"\""
   ]
  },
  {
   "cell_type": "code",
   "execution_count": 23,
   "metadata": {},
   "outputs": [
    {
     "name": "stdout",
     "output_type": "stream",
     "text": [
      "---\n",
      "permalink: /cards/\n",
      "title: \"Cards\"\n",
      "gallery:\n",
      "\t- url: /assets/images/card_images/You+are+a+keeper.png\n",
      "\t  image_path: /assets/images/card_images/You+are+a+keeper.png\n",
      "\t- url: /assets/images/card_images/sorry+so+slow.png\n",
      "\t  image_path: /assets/images/card_images/sorry+so+slow.png\n",
      "\t- url: /assets/images/card_images/plan+view+bday.png\n",
      "\t  image_path: /assets/images/card_images/plan+view+bday.png\n",
      "\t- url: /assets/images/card_images/Fake+it+till+you+make+it.png\n",
      "\t  image_path: /assets/images/card_images/Fake+it+till+you+make+it.png\n",
      "\t- url: /assets/images/card_images/sadbye-03.png\n",
      "\t  image_path: /assets/images/card_images/sadbye-03.png\n",
      "\t- url: /assets/images/card_images/Falling+for+you.png\n",
      "\t  image_path: /assets/images/card_images/Falling+for+you.png\n",
      "\t- url: /assets/images/card_images/Appy+Birthday.png\n",
      "\t  image_path: /assets/images/card_images/Appy+Birthday.png\n",
      "\t- url: /assets/images/card_images/Believe+in+this+shit.png\n",
      "\t  image_path: /assets/images/card_images/Believe+in+this+shit.png\n",
      "\t- url: /assets/images/card_images/you+are+rad.png\n",
      "\t  image_path: /assets/images/card_images/you+are+rad.png\n",
      "\t- url: /assets/images/card_images/babyquadrants.png\n",
      "\t  image_path: /assets/images/card_images/babyquadrants.png\n",
      "\t- url: /assets/images/card_images/happy+challahdays.png\n",
      "\t  image_path: /assets/images/card_images/happy+challahdays.png\n",
      "\t- url: /assets/images/card_images/Tumblr+-brain+on+kids-01.png\n",
      "\t  image_path: /assets/images/card_images/Tumblr+-brain+on+kids-01.png\n",
      "\t- url: /assets/images/card_images/etch-a-sketch-03.png\n",
      "\t  image_path: /assets/images/card_images/etch-a-sketch-03.png\n",
      "\t- url: /assets/images/card_images/Boy+who+cried+wolf.png\n",
      "\t  image_path: /assets/images/card_images/Boy+who+cried+wolf.png\n",
      "\t- url: /assets/images/card_images/Be+cool+snowpeople.png\n",
      "\t  image_path: /assets/images/card_images/Be+cool+snowpeople.png\n",
      "\t- url: /assets/images/card_images/SuperHeroes-website_Page_1.png\n",
      "\t  image_path: /assets/images/card_images/SuperHeroes-website_Page_1.png\n",
      "\t- url: /assets/images/card_images/Birthday+cat.png\n",
      "\t  image_path: /assets/images/card_images/Birthday+cat.png\n",
      "\t- url: /assets/images/card_images/Kill+a+tree+with+me.png\n",
      "\t  image_path: /assets/images/card_images/Kill+a+tree+with+me.png\n",
      "\t- url: /assets/images/card_images/cooler+than+cool.png\n",
      "\t  image_path: /assets/images/card_images/cooler+than+cool.png\n",
      "\t- url: /assets/images/card_images/25th+bday+-+more+please.png\n",
      "\t  image_path: /assets/images/card_images/25th+bday+-+more+please.png\n",
      "\t- url: /assets/images/card_images/keeps+going+and+going-website.png\n",
      "\t  image_path: /assets/images/card_images/keeps+going+and+going-website.png\n",
      "\t- url: /assets/images/card_images/Over+that+hill.png\n",
      "\t  image_path: /assets/images/card_images/Over+that+hill.png\n",
      "\t- url: /assets/images/card_images/Meowy+Christmas.png\n",
      "\t  image_path: /assets/images/card_images/Meowy+Christmas.png\n",
      "\t- url: /assets/images/card_images/And+then+it+hit+me-greeting-03.png\n",
      "\t  image_path: /assets/images/card_images/And+then+it+hit+me-greeting-03.png\n",
      "\t- url: /assets/images/card_images/retry+button-website_Page_1.png\n",
      "\t  image_path: /assets/images/card_images/retry+button-website_Page_1.png\n",
      "\t- url: /assets/images/card_images/Worst+bath+ever.png\n",
      "\t  image_path: /assets/images/card_images/Worst+bath+ever.png\n",
      "\t- url: /assets/images/card_images/Satelitte-website_Page_1.png\n",
      "\t  image_path: /assets/images/card_images/Satelitte-website_Page_1.png\n",
      "\t- url: /assets/images/card_images/auto_correct-03.png\n",
      "\t  image_path: /assets/images/card_images/auto_correct-03.png\n",
      "\t- url: /assets/images/card_images/Created+by+sex.png\n",
      "\t  image_path: /assets/images/card_images/Created+by+sex.png\n",
      "\t- url: /assets/images/card_images/walking+partner.png\n",
      "\t  image_path: /assets/images/card_images/walking+partner.png\n",
      "\t- url: /assets/images/card_images/Sole+sisters.png\n",
      "\t  image_path: /assets/images/card_images/Sole+sisters.png\n",
      "\t- url: /assets/images/card_images/Best+period.png\n",
      "\t  image_path: /assets/images/card_images/Best+period.png\n",
      "\t- url: /assets/images/card_images/Hold+me-website.png\n",
      "\t  image_path: /assets/images/card_images/Hold+me-website.png\n",
      "\t- url: /assets/images/card_images/Birthday+Celebrity.png\n",
      "\t  image_path: /assets/images/card_images/Birthday+Celebrity.png\n",
      "\t- url: /assets/images/card_images/pause+rewind+celebrate.png\n",
      "\t  image_path: /assets/images/card_images/pause+rewind+celebrate.png\n",
      "\t- url: /assets/images/card_images/You+are+a+big+deal.png\n",
      "\t  image_path: /assets/images/card_images/You+are+a+big+deal.png\n",
      "\t- url: /assets/images/card_images/Hang+out+soon.png\n",
      "\t  image_path: /assets/images/card_images/Hang+out+soon.png\n",
      "\t- url: /assets/images/card_images/Parallel+Lines.png\n",
      "\t  image_path: /assets/images/card_images/Parallel+Lines.png\n",
      "\t- url: /assets/images/card_images/Einstein+theory+of+birthdays.png\n",
      "\t  image_path: /assets/images/card_images/Einstein+theory+of+birthdays.png\n",
      "\t- url: /assets/images/card_images/Cookies+in+Christmas.png\n",
      "\t  image_path: /assets/images/card_images/Cookies+in+Christmas.png\n",
      "\t- url: /assets/images/card_images/Getting+popular.png\n",
      "\t  image_path: /assets/images/card_images/Getting+popular.png\n",
      "\t- url: /assets/images/card_images/bathroom+shoes.png\n",
      "\t  image_path: /assets/images/card_images/bathroom+shoes.png\n",
      "\t- url: /assets/images/card_images/missing+you-website_Page_1.png\n",
      "\t  image_path: /assets/images/card_images/missing+you-website_Page_1.png\n",
      "\t- url: /assets/images/card_images/Baby+sins.png\n",
      "\t  image_path: /assets/images/card_images/Baby+sins.png\n",
      "\t- url: /assets/images/card_images/cake+and+eat+it+too.png\n",
      "\t  image_path: /assets/images/card_images/cake+and+eat+it+too.png\n",
      "\t- url: /assets/images/card_images/Unlikely+pair.png\n",
      "\t  image_path: /assets/images/card_images/Unlikely+pair.png\n",
      "\n"
     ]
    }
   ],
   "source": [
    "print(yaml_str)"
   ]
  },
  {
   "cell_type": "code",
   "execution_count": null,
   "metadata": {},
   "outputs": [],
   "source": []
  }
 ],
 "metadata": {
  "kernelspec": {
   "display_name": "twitter",
   "language": "python",
   "name": "twitter"
  },
  "language_info": {
   "codemirror_mode": {
    "name": "ipython",
    "version": 3
   },
   "file_extension": ".py",
   "mimetype": "text/x-python",
   "name": "python",
   "nbconvert_exporter": "python",
   "pygments_lexer": "ipython3",
   "version": "3.10.6"
  },
  "orig_nbformat": 4
 },
 "nbformat": 4,
 "nbformat_minor": 2
}
